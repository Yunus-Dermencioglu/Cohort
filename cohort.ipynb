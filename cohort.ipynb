{
 "cells": [
  {
   "cell_type": "code",
   "execution_count": 1,
   "metadata": {},
   "outputs": [
    {
     "name": "stdout",
     "output_type": "stream",
     "text": [
      "Minimum mesafe: 4.123105625617661\n",
      "[4.123105625617661, 20.615528128088304, 11.180339887498949, 23.194827009486403, 24.698178070456937, 14.212670403551895, 27.073972741361768, 14.142135623730951, 11.704699910719626, 22.20360331117452]\n"
     ]
    }
   ],
   "source": [
    "import numpy as np\n",
    "\n",
    "points = [(3, 5), (4, 9), (-5, -14), (-7, 0), (6, -18)]\n",
    "\n",
    "def euclideanDistance(point1, point2):\n",
    "    x1, y1 = point1\n",
    "    x2, y2 = point2\n",
    "    distance = np.sqrt((x1 - x2) ** 2 + (y1 - y2) ** 2)\n",
    "    return distance\n",
    "\n",
    "distances = []\n",
    "\n",
    "for i in range(len(points)):\n",
    "    for j in range(i + 1, len(points)):\n",
    "        distance = euclideanDistance(points[i], points[j])\n",
    "        distances.append(distance)\n",
    "\n",
    "min_distance = min(distances)\n",
    "print(f\"Minimum mesafe: {min_distance}\")\n",
    "print(distances)"
   ]
  }
 ],
 "metadata": {
  "kernelspec": {
   "display_name": "Python 3",
   "language": "python",
   "name": "python3"
  },
  "language_info": {
   "codemirror_mode": {
    "name": "ipython",
    "version": 3
   },
   "file_extension": ".py",
   "mimetype": "text/x-python",
   "name": "python",
   "nbconvert_exporter": "python",
   "pygments_lexer": "ipython3",
   "version": "3.9.0"
  }
 },
 "nbformat": 4,
 "nbformat_minor": 2
}
